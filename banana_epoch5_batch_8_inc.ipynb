{
  "nbformat": 4,
  "nbformat_minor": 0,
  "metadata": {
    "colab": {
      "name": " banana_05_val_loss_inc.ipynb",
      "provenance": [],
      "collapsed_sections": [],
      "machine_shape": "hm",
      "authorship_tag": "ABX9TyN0gDWQIGX8ffLRxcAzJNjU",
      "include_colab_link": true
    },
    "kernelspec": {
      "name": "python3",
      "display_name": "Python 3"
    },
    "language_info": {
      "name": "python"
    },
    "accelerator": "GPU"
  },
  "cells": [
    {
      "cell_type": "markdown",
      "metadata": {
        "id": "view-in-github",
        "colab_type": "text"
      },
      "source": [
        "<a href=\"https://colab.research.google.com/github/linadrozd/ai_banana/blob/main/banana_epoch5_batch_8_inc.ipynb\" target=\"_parent\"><img src=\"https://colab.research.google.com/assets/colab-badge.svg\" alt=\"Open In Colab\"/></a>"
      ]
    },
    {
      "cell_type": "code",
      "metadata": {
        "id": "k-941dusrpHT"
      },
      "source": [
        "\n",
        "import torch\n",
        "import torchvision\n",
        "from torchvision.datasets import ImageFolder\n",
        "from torch.utils.data import DataLoader\n",
        "import torchvision.transforms as transforms\n",
        "import torch.nn as nn\n",
        "from torch.utils.data import random_split\n",
        "import torch.nn.functional as F\n",
        "from torchvision.utils import make_grid\n",
        "from google.colab import files \n",
        "import pandas as pd"
      ],
      "execution_count": 1,
      "outputs": []
    },
    {
      "cell_type": "code",
      "metadata": {
        "id": "B71n9O53r1L5"
      },
      "source": [
        "import matplotlib.pyplot as plt\n",
        "%matplotlib inline"
      ],
      "execution_count": 2,
      "outputs": []
    },
    {
      "cell_type": "code",
      "metadata": {
        "colab": {
          "base_uri": "https://localhost:8080/"
        },
        "id": "psLg9lgsr3rO",
        "outputId": "a0f9d07f-f6ba-463f-9d90-28c66b181047"
      },
      "source": [
        "from google.colab import drive\n",
        "drive.mount('/content/gdrive')"
      ],
      "execution_count": 3,
      "outputs": [
        {
          "output_type": "stream",
          "text": [
            "Mounted at /content/gdrive\n"
          ],
          "name": "stdout"
        }
      ]
    },
    {
      "cell_type": "code",
      "metadata": {
        "colab": {
          "base_uri": "https://localhost:8080/"
        },
        "id": "QcuObqY1r_WQ",
        "outputId": "bd337192-1c93-4201-ff8e-1f31f5517631"
      },
      "source": [
        "PATH_OF_DATA= '/content/gdrive/\"My Drive\"/Ai'\n",
        "!ls {PATH_OF_DATA}"
      ],
      "execution_count": 4,
      "outputs": [
        {
          "output_type": "stream",
          "text": [
            "banana_14_04_epoch5.pt\tbanana_test  banana_train\n"
          ],
          "name": "stdout"
        }
      ]
    },
    {
      "cell_type": "code",
      "metadata": {
        "id": "RTNoUtNcsLTv"
      },
      "source": [
        "torch.manual_seed(42)\n",
        "dataset = ImageFolder(root=\"/content/gdrive/My Drive/Ai/banana_train\", transform=transforms.Compose([transforms.Resize((256, 256)), transforms.ToTensor()]))\n",
        "dataset_size = len(dataset)\n",
        "dataset_size\n",
        "classes = dataset.classes\n",
        "classes\n",
        "num_classes = len(dataset.classes)\n",
        "num_classes\n",
        "test_size = round(dataset_size*0.10)\n",
        "nontest_size = len(dataset) - test_size\n",
        "nontest_ds, test_ds = random_split(dataset, [nontest_size, test_size])\n",
        "len(nontest_ds), len(test_ds)\n",
        "val_size = round(dataset_size*0.10)\n",
        "train_size = len(nontest_ds) - val_size\n",
        "train_ds, val_ds = random_split(nontest_ds, [train_size, val_size])\n",
        "len(train_ds), len(val_ds)\n",
        "batch_size = 8"
      ],
      "execution_count": 5,
      "outputs": []
    },
    {
      "cell_type": "code",
      "metadata": {
        "id": "2xjcYrsquEy7"
      },
      "source": [
        "train_loader = DataLoader(train_ds, batch_size, shuffle=True, num_workers=2, pin_memory=True)\n",
        "val_loader = DataLoader(val_ds, batch_size, num_workers=2, pin_memory=True)\n",
        "test_loader = DataLoader(test_ds, batch_size*2, num_workers=2, pin_memory=True)\n",
        "\n",
        "train_dl = DataLoader(train_ds, batch_size, shuffle=True, num_workers=2, pin_memory=True)\n",
        "val_dl = DataLoader(val_ds, batch_size*2, num_workers=2, pin_memory=True)"
      ],
      "execution_count": 6,
      "outputs": []
    },
    {
      "cell_type": "code",
      "metadata": {
        "id": "TixnoIArcSpr"
      },
      "source": [
        ""
      ],
      "execution_count": 6,
      "outputs": []
    },
    {
      "cell_type": "code",
      "metadata": {
        "id": "kg7qfklDjjcY"
      },
      "source": [
        ""
      ],
      "execution_count": 6,
      "outputs": []
    },
    {
      "cell_type": "code",
      "metadata": {
        "id": "I0crXvPNvHRp"
      },
      "source": [
        "def accuracy(outputs, labels):\n",
        "    _, preds = torch.max(outputs, dim=1)\n",
        "    return torch.tensor(torch.sum(preds == labels).item() / len(preds))\n",
        "class ImageClassificationBase(nn.Module):\n",
        "    def training_step(self, batch):\n",
        "        images, labels = batch \n",
        "        out = self(images)                  # Generate predictions\n",
        "        loss = F.cross_entropy(out, labels) # Calculate loss\n",
        "        return loss\n",
        "    \n",
        "    def validation_step(self, batch):\n",
        "        images, labels = batch \n",
        "        out = self(images)                    # Generate predictions\n",
        "        loss = F.cross_entropy(out, labels)   # Calculate loss\n",
        "        acc = accuracy(out, labels)           # Calculate accuracy\n",
        "        return {'val_loss': loss.detach(), 'val_acc': acc}\n",
        "        \n",
        "    def validation_epoch_end(self, outputs):\n",
        "        batch_losses = [x['val_loss'] for x in outputs]\n",
        "        epoch_loss = torch.stack(batch_losses).mean()   # Combine losses\n",
        "        batch_accs = [x['val_acc'] for x in outputs]\n",
        "        epoch_acc = torch.stack(batch_accs).mean()      # Combine accuracies\n",
        "        return {'val_loss': epoch_loss.item(), 'val_acc': epoch_acc.item()}\n",
        "    \n",
        "    def epoch_end(self, epoch, result):\n",
        "        print(\"Epoch [{}], train_loss: {:.4f}, val_loss: {:.4f}, val_acc: {:.4f}\".format(\n",
        "            epoch, result['train_loss'], result['val_loss'], result['val_acc']))\n",
        "class CnnModel(ImageClassificationBase):\n",
        "    def __init__(self):\n",
        "        super().__init__()\n",
        "        self.network = nn.Sequential(\n",
        "            nn.Conv2d(3, 32, kernel_size=3, padding=1),\n",
        "            nn.ReLU(),\n",
        "            nn.Conv2d(32, 64, kernel_size=3, stride=1, padding=1),\n",
        "            nn.ReLU(),\n",
        "            nn.MaxPool2d(2, 2), # output: 64 x 16 x 16\n",
        "nn.Conv2d(64, 128, kernel_size=3, stride=1, padding=1),\n",
        "            nn.ReLU(),\n",
        "            nn.Conv2d(128, 128, kernel_size=3, stride=1, padding=1),\n",
        "            nn.ReLU(),\n",
        "            nn.MaxPool2d(2, 2), # output: 128 x 8 x 8\n",
        "nn.Conv2d(128, 256, kernel_size=3, stride=1, padding=1),\n",
        "            nn.ReLU(),\n",
        "            nn.Conv2d(256, 256, kernel_size=3, stride=1, padding=1),\n",
        "            nn.ReLU(),\n",
        "            nn.MaxPool2d(2, 2), # output: 256 x 4 x 4\n",
        "nn.Flatten(), \n",
        "            nn.Linear(256*16*16 * 4, 1024),\n",
        "            nn.ReLU(),\n",
        "            nn.Linear(1024, 512),\n",
        "            nn.ReLU(),\n",
        "            nn.Linear(512, 10))\n",
        "        \n",
        "    def forward(self, xb):\n",
        "        return self.network(xb)\n",
        "model = CnnModel()"
      ],
      "execution_count": 7,
      "outputs": []
    },
    {
      "cell_type": "code",
      "metadata": {
        "colab": {
          "base_uri": "https://localhost:8080/"
        },
        "id": "MjJLZ-Rjy0iz",
        "outputId": "3e1a0662-8792-45fb-aefa-478cfae960f3"
      },
      "source": [
        "def get_default_device():\n",
        "    \"\"\"Pick GPU if available, else CPU\"\"\"\n",
        "    if torch.cuda.is_available():\n",
        "        return torch.device('cuda')\n",
        "    else:\n",
        "        return torch.device('cpu')\n",
        "def to_device(data, device):\n",
        "    \"\"\"Move tensor(s) to chosen device\"\"\"\n",
        "    if isinstance(data, (list,tuple)):\n",
        "        return [to_device(x, device) for x in data]\n",
        "    return data.to(device, non_blocking=True)\n",
        "class DeviceDataLoader():\n",
        "    \"\"\"Wrap a dataloader to move data to a device\"\"\"\n",
        "    def __init__(self, dl, device):\n",
        "        self.dl = dl\n",
        "        self.device = device\n",
        "        \n",
        "    def __iter__(self):\n",
        "        \"\"\"Yield a batch of data after moving it to device\"\"\"\n",
        "        for b in self.dl: \n",
        "            yield to_device(b, self.device)\n",
        "def __len__(self):\n",
        "        \"\"\"Number of batches\"\"\"\n",
        "        return len(self.dl)\n",
        "       \n",
        "device = get_default_device()\n",
        "device\n",
        "\n",
        "train_dl = DeviceDataLoader(train_dl, device)\n",
        "val_dl = DeviceDataLoader(val_dl, device)\n",
        "to_device(model, device);\n",
        "@torch.no_grad()\n",
        "def evaluate(model, val_loader):\n",
        "    model.eval()\n",
        "    outputs = [model.validation_step(batch) for batch in val_loader]\n",
        "    return model.validation_epoch_end(outputs)\n",
        "def fit(epochs, lr, model, train_loader, val_loader, opt_func):\n",
        "    history = []\n",
        "    optimizer = opt_func(model.parameters(), lr)\n",
        "    for epoch in range(epochs):\n",
        "        # Training Phase \n",
        "        model.train()\n",
        "        train_losses = []\n",
        "        for batch in train_loader:\n",
        "            loss = model.training_step(batch)\n",
        "            train_losses.append(loss)\n",
        "            loss.backward()\n",
        "            optimizer.step()\n",
        "            optimizer.zero_grad()\n",
        "        # Validation phase\n",
        "        result = evaluate(model, val_loader)\n",
        "        result['train_loss'] = torch.stack(train_losses).mean().item()\n",
        "        model.epoch_end(epoch, result)\n",
        "        history.append(result)\n",
        "    return history\n",
        "model = to_device(CnnModel(), device)\n",
        "for images, labels in train_dl:\n",
        "    print('images.shape:', images.shape)\n",
        "    out = model(images)\n",
        "    print('out.shape:', out.shape)\n",
        "    print('out[0]:', out[0])\n",
        "    break\n",
        "num_epochs1 = 6\n",
        "num_epochs2 = 6\n",
        "num_epochs3 = 6\n",
        "opt_func = torch.optim.Adam\n",
        "lr1 = 0.000010\n",
        "lr2 = 0.0000005\n",
        "lr3 = 0.0000001\n"
      ],
      "execution_count": 8,
      "outputs": [
        {
          "output_type": "stream",
          "text": [
            "images.shape: torch.Size([8, 3, 256, 256])\n",
            "out.shape: torch.Size([8, 10])\n",
            "out[0]: tensor([ 0.0187, -0.0275, -0.0411, -0.0187, -0.0431, -0.0312, -0.0402, -0.0288,\n",
            "         0.0330, -0.0119], device='cuda:0', grad_fn=<SelectBackward>)\n"
          ],
          "name": "stdout"
        }
      ]
    },
    {
      "cell_type": "code",
      "metadata": {
        "colab": {
          "base_uri": "https://localhost:8080/"
        },
        "id": "dfdX2wCuB0t8",
        "outputId": "f81309b0-7510-4680-92da-16ae1dac7e87"
      },
      "source": [
        "evaluate(model, val_dl)\n",
        "history1 = fit(num_epochs1, lr1, model, train_dl, val_dl, opt_func)\n",
        "history2 = fit(num_epochs1, lr2, model, train_dl, val_dl, opt_func)\n",
        "history3 = fit(num_epochs1, lr3, model, train_dl, val_dl, opt_func)"
      ],
      "execution_count": null,
      "outputs": [
        {
          "output_type": "stream",
          "text": [
            "Epoch [0], train_loss: 0.6056, val_loss: 0.0571, val_acc: 0.9818\n",
            "Epoch [1], train_loss: 0.0704, val_loss: 0.0376, val_acc: 0.9844\n",
            "Epoch [2], train_loss: 0.0477, val_loss: 0.0167, val_acc: 0.9896\n",
            "Epoch [3], train_loss: 0.0378, val_loss: 0.0140, val_acc: 0.9948\n",
            "Epoch [4], train_loss: 0.0342, val_loss: 0.0400, val_acc: 0.9818\n",
            "Epoch [5], train_loss: 0.0277, val_loss: 0.0084, val_acc: 0.9974\n",
            "Epoch [0], train_loss: 0.0188, val_loss: 0.0085, val_acc: 0.9974\n",
            "Epoch [1], train_loss: 0.0181, val_loss: 0.0103, val_acc: 0.9974\n",
            "Epoch [2], train_loss: 0.0176, val_loss: 0.0118, val_acc: 0.9948\n",
            "Epoch [3], train_loss: 0.0174, val_loss: 0.0098, val_acc: 0.9974\n",
            "Epoch [4], train_loss: 0.0168, val_loss: 0.0108, val_acc: 0.9948\n",
            "Epoch [5], train_loss: 0.0162, val_loss: 0.0107, val_acc: 0.9948\n",
            "Epoch [0], train_loss: 0.0158, val_loss: 0.0092, val_acc: 0.9974\n",
            "Epoch [1], train_loss: 0.0157, val_loss: 0.0088, val_acc: 0.9974\n"
          ],
          "name": "stdout"
        }
      ]
    },
    {
      "cell_type": "code",
      "metadata": {
        "id": "BQTstI9-_tsL"
      },
      "source": [
        "def plot_accuracies(history):\n",
        "    accuracies = [x['val_acc'] for x in history]\n",
        "    plt.plot(accuracies, '-x')\n",
        "    plt.xlabel('epoch')\n",
        "    plt.ylabel('accuracy')\n",
        "    plt.title('Epoches vs Accuracy ');\n",
        "plot_accuracies(history1)\n",
        "plot_accuracies(history2)\n",
        "plot_accuracies(history2)"
      ],
      "execution_count": null,
      "outputs": []
    },
    {
      "cell_type": "code",
      "metadata": {
        "id": "M5Mqd9KQV558"
      },
      "source": [
        "predicted_classes = torch.argmax(out, dim=1) == 0\n",
        "target_classes = self.get_vector(y_batch)\n",
        "target_true += torch.sum(target_classes == 0).float()\n",
        "predicted_true += torch.sum(predicted_classes).float()\n",
        "correct_true += torch.sum(\n",
        "    predicted_classes == target_classes * predicted_classes == 0).float()"
      ],
      "execution_count": null,
      "outputs": []
    },
    {
      "cell_type": "code",
      "metadata": {
        "colab": {
          "base_uri": "https://localhost:8080/",
          "height": 298
        },
        "id": "U0dHDQ0oMcrL",
        "outputId": "be4dfb38-a3ed-4bea-e958-c7295562eec8"
      },
      "source": [
        "accuracies1 = [x['val_acc'] for x in history1]\n",
        "accuracies2 = [x['val_acc'] for x in history2]\n",
        "accuracies3 = [x['val_acc'] for x in history3]\n",
        "plt.plot(accuracies3, \"-^\",label = 'lr = 0.0000001')\n",
        "plt.plot(accuracies1, '-x', label = 'lr = 0.000010') \n",
        "plt.plot(accuracies2, '--x', label = 'lr = 0.0000005')\n",
        "plt.legend(loc='upper right', bbox_to_anchor=(1,0.93))\n",
        "plt.xlabel('Epoch')\n",
        "plt.ylabel('Accuracy')\n",
        "\n"
      ],
      "execution_count": 12,
      "outputs": [
        {
          "output_type": "execute_result",
          "data": {
            "text/plain": [
              "Text(0, 0.5, 'Accuracy')"
            ]
          },
          "metadata": {
            "tags": []
          },
          "execution_count": 12
        },
        {
          "output_type": "display_data",
          "data": {
            "image/png": "[encoded data removed]",
            "text/plain": [
              "<Figure size 432x288 with 1 Axes>"
            ]
          },
          "metadata": {
            "tags": [],
            "needs_background": "light"
          }
        }
      ]
    },
    {
      "cell_type": "code",
      "metadata": {
        "colab": {
          "base_uri": "https://localhost:8080/",
          "height": 295
        },
        "id": "j_7D-f5s_4Mv",
        "outputId": "70a00ca4-a736-449f-c544-8547fbafe82b"
      },
      "source": [
        "def plot_losses(history):\n",
        "    train_losses = [x.get('train_loss') for x in history]\n",
        "    val_losses = [x['val_loss'] for x in history]\n",
        "    plt.plot(train_losses, '-bx')\n",
        "    plt.plot(val_losses, '-rx')\n",
        "    plt.xlabel('Epoch')\n",
        "    plt.ylabel('Loss')\n",
        "    plt.legend(['Training', 'Validation'])\n",
        "    plt.title('Loss vs. No. of epochs');\n",
        "plot_losses(history1)\n",
        "plot_losses(history2)\n",
        "plot_losses(history3)"
      ],
      "execution_count": 13,
      "outputs": [
        {
          "output_type": "display_data",
          "data": {
            "image/png": "[encoded data removed]",
            "text/plain": [
              "<Figure size 432x288 with 1 Axes>"
            ]
          },
          "metadata": {
            "tags": [],
            "needs_background": "light"
          }
        }
      ]
    },
    {
      "cell_type": "code",
      "metadata": {
        "colab": {
          "base_uri": "https://localhost:8080/",
          "height": 296
        },
        "id": "NTm6-noNIsEM",
        "outputId": "5b324570-1e1f-4696-de68-42e3b08d42d5"
      },
      "source": [
        "    train_losses1 = [x.get('train_loss') for x in history1]\n",
        "    val_losses1 = [x['val_loss'] for x in history1]\n",
        "    plt.plot(train_losses1, '--bx', label = 'lr = 0.000010 Traning')\n",
        "    plt.plot(val_losses1, '--rx', label = 'lr = 0.000010 Validation')\n",
        "    train_losses2 = [x.get('train_loss') for x in history2]\n",
        "    val_losses2 = [x['val_loss'] for x in history2]\n",
        "    plt.plot(train_losses2, '--yx', label = 'lr = 0.0000005 Traning')\n",
        "    plt.plot(val_losses2, '--cx', label = 'lr = 0.0000005 Validation')\n",
        "    train_losses3 = [x.get('train_loss') for x in history3]\n",
        "    val_losses3 = [x['val_loss'] for x in history3]\n",
        "    plt.plot(train_losses3, '--gx', label = 'lr = 0.0000001 Traning')\n",
        "    plt.plot(val_losses3, '--mx', label = 'lr = 0.0000001 Validation')\n",
        "\n",
        "\n",
        "\n",
        "    plt.xlabel('Epoch')\n",
        "    plt.ylabel('Loss')\n",
        "    plt.legend()\n"
      ],
      "execution_count": 14,
      "outputs": [
        {
          "output_type": "execute_result",
          "data": {
            "text/plain": [
              "<matplotlib.legend.Legend at 0x7f4d66157b90>"
            ]
          },
          "metadata": {
            "tags": []
          },
          "execution_count": 14
        },
        {
          "output_type": "display_data",
          "data": {
            "image/png": "[encoded data removed]",
            "text/plain": [
              "<Figure size 432x288 with 1 Axes>"
            ]
          },
          "metadata": {
            "tags": [],
            "needs_background": "light"
          }
        }
      ]
    },
    {
      "cell_type": "code",
      "metadata": {
        "colab": {
          "base_uri": "https://localhost:8080/",
          "height": 295
        },
        "id": "GiN5rHR7Jqa1",
        "outputId": "e30ce10d-5575-4594-c880-020e19620f72"
      },
      "source": [
        "    train_losses2 = [x.get('train_loss') for x in history2]\n",
        "    val_losses2 = [x['val_loss'] for x in history2]\n",
        "    plt.plot(train_losses2, '--yx', label = 'lr = 0.0000005 Traning')\n",
        "    plt.plot(val_losses2, '--cx', label = 'lr = 0.0000005 Validation')\n",
        "    plt.xlabel('Epoch')\n",
        "    plt.ylabel('Loss')\n",
        "    plt.legend()\n",
        "    plt.title('Loss vs. No. of epochs');"
      ],
      "execution_count": 15,
      "outputs": [
        {
          "output_type": "display_data",
          "data": {
            "image/png": "[encoded data removed]",
            "text/plain": [
              "<Figure size 432x288 with 1 Axes>"
            ]
          },
          "metadata": {
            "tags": [],
            "needs_background": "light"
          }
        }
      ]
    },
    {
      "cell_type": "code",
      "metadata": {
        "colab": {
          "base_uri": "https://localhost:8080/",
          "height": 295
        },
        "id": "VRzZVMagJbFy",
        "outputId": "81970ebe-216c-428b-82dd-6aee2810ee7f"
      },
      "source": [
        "    train_losses3 = [x.get('train_loss') for x in history3]\n",
        "    val_losses3 = [x['val_loss'] for x in history3]\n",
        "    plt.plot(train_losses3, '--gx')\n",
        "    plt.plot(val_losses3, '--mx')\n",
        "\n",
        "    plt.xlabel('Epoch')\n",
        "    plt.ylabel('Loss')\n",
        "    plt.legend(['Training', 'Validation'])\n",
        "    plt.title('Loss vs. No. of epochs');"
      ],
      "execution_count": 16,
      "outputs": [
        {
          "output_type": "display_data",
          "data": {
            "image/png": "[encoded data removed]",
            "text/plain": [
              "<Figure size 432x288 with 1 Axes>"
            ]
          },
          "metadata": {
            "tags": [],
            "needs_background": "light"
          }
        }
      ]
    },
    {
      "cell_type": "code",
      "metadata": {
        "colab": {
          "base_uri": "https://localhost:8080/",
          "height": 295
        },
        "id": "WJO4zQf-J1Tp",
        "outputId": "bb425dac-19b0-45b6-baaf-1da4a99bb067"
      },
      "source": [
        "    train_losses1 = [x.get('train_loss') for x in history1]\n",
        "    val_losses1 = [x['val_loss'] for x in history1]\n",
        "    plt.plot(train_losses1, '-bx')\n",
        "    plt.plot(val_losses1, '-rx')\n",
        "    \n",
        "    plt.xlabel('Epoch')\n",
        "    plt.ylabel('Loss')\n",
        "    plt.legend(['Training', 'Validation'])\n",
        "    plt.title('Loss vs. No. of epochs');"
      ],
      "execution_count": 17,
      "outputs": [
        {
          "output_type": "display_data",
          "data": {
            "image/png": "[encoded data removed]",
            "text/plain": [
              "<Figure size 432x288 with 1 Axes>"
            ]
          },
          "metadata": {
            "tags": [],
            "needs_background": "light"
          }
        }
      ]
    },
    {
      "cell_type": "code",
      "metadata": {
        "id": "fdtGxz7RdCCG"
      },
      "source": [
        "def f1_loss(y_true:torch.Tensor, y_pred:torch.Tensor, is_training=False) -> torch.Tensor:\n",
        "\n",
        "    assert y_true.ndim == 1\n",
        "    assert y_pred.ndim == 1 or y_pred.ndim == 2\n",
        "    \n",
        "    if y_pred.ndim == 2:\n",
        "        y_pred = y_pred.argmax(dim=1)\n",
        "        \n",
        "    \n",
        "    tp = (y_true * y_pred).sum().to(torch.float32)\n",
        "    tn = ((1 - y_true) * (1 - y_pred)).sum().to(torch.float32)\n",
        "    fp = ((1 - y_true) * y_pred).sum().to(torch.float32)\n",
        "    fn = (y_true * (1 - y_pred)).sum().to(torch.float32)\n",
        "    \n",
        "    epsilon = 0/1e-7\n",
        "    \n",
        "    precision = tp / (tp + fp + epsilon)\n",
        "    recall = tp / (tp + fn + epsilon)\n",
        "    \n",
        "    f1 = 2* (precision*recall) / (precision + recall + epsilon)\n",
        "    f1.requires_grad = is_training\n",
        "    return f1, precision, recall, tp, fn, fp, y_pred, y_true"
      ],
      "execution_count": 19,
      "outputs": []
    },
    {
      "cell_type": "code",
      "metadata": {
        "colab": {
          "base_uri": "https://localhost:8080/"
        },
        "id": "f0YKwy4QfcX-",
        "outputId": "77629c39-2da8-42bf-9896-efaa469e1007"
      },
      "source": [
        "f1_loss(labels,out)\n"
      ],
      "execution_count": 20,
      "outputs": [
        {
          "output_type": "execute_result",
          "data": {
            "text/plain": [
              "(tensor(0.9412, device='cuda:0'),\n",
              " tensor(0.5000, device='cuda:0'),\n",
              " tensor(8., device='cuda:0'),\n",
              " tensor(32., device='cuda:0'),\n",
              " tensor(-28., device='cuda:0'),\n",
              " tensor(32., device='cuda:0'),\n",
              " tensor([8, 8, 8, 8, 8, 8, 8, 8], device='cuda:0'),\n",
              " tensor([0, 0, 1, 0, 1, 0, 1, 1], device='cuda:0'))"
            ]
          },
          "metadata": {
            "tags": []
          },
          "execution_count": 20
        }
      ]
    },
    {
      "cell_type": "code",
      "metadata": {
        "colab": {
          "base_uri": "https://localhost:8080/",
          "height": 17
        },
        "id": "_EZsIDKFCFnH",
        "outputId": "ac1130a0-d2aa-4ccf-8c97-1360720c3dfc"
      },
      "source": [
        "d= {'Training Loss1':train_losses1, 'Validation Loss1':val_losses1, 'Accuracy1':accuracies1, 'Training Loss2':train_losses2, 'Validation Loss2':val_losses2, 'Accuracy2':accuracies2, 'Training Loss':train_losses1, 'Validation Loss3':val_losses3, 'Accuracy3':accuracies3}\n",
        "df= pd.DataFrame(d)\n",
        "df.to_csv('evalution1.csv')\n",
        "files.download('evalution1.csv')"
      ],
      "execution_count": 22,
      "outputs": [
        {
          "output_type": "display_data",
          "data": {
            "application/javascript": [
              "\n",
              "    async function download(id, filename, size) {\n",
              "      if (!google.colab.kernel.accessAllowed) {\n",
              "        return;\n",
              "      }\n",
              "      const div = document.createElement('div');\n",
              "      const label = document.createElement('label');\n",
              "      label.textContent = `Downloading \"${filename}\": `;\n",
              "      div.appendChild(label);\n",
              "      const progress = document.createElement('progress');\n",
              "      progress.max = size;\n",
              "      div.appendChild(progress);\n",
              "      document.body.appendChild(div);\n",
              "\n",
              "      const buffers = [];\n",
              "      let downloaded = 0;\n",
              "\n",
              "      const channel = await google.colab.kernel.comms.open(id);\n",
              "      // Send a message to notify the kernel that we're ready.\n",
              "      channel.send({})\n",
              "\n",
              "      for await (const message of channel.messages) {\n",
              "        // Send a message to notify the kernel that we're ready.\n",
              "        channel.send({})\n",
              "        if (message.buffers) {\n",
              "          for (const buffer of message.buffers) {\n",
              "            buffers.push(buffer);\n",
              "            downloaded += buffer.byteLength;\n",
              "            progress.value = downloaded;\n",
              "          }\n",
              "        }\n",
              "      }\n",
              "      const blob = new Blob(buffers, {type: 'application/binary'});\n",
              "      const a = document.createElement('a');\n",
              "      a.href = window.URL.createObjectURL(blob);\n",
              "      a.download = filename;\n",
              "      div.appendChild(a);\n",
              "      a.click();\n",
              "      div.remove();\n",
              "    }\n",
              "  "
            ],
            "text/plain": [
              "<IPython.core.display.Javascript object>"
            ]
          },
          "metadata": {
            "tags": []
          }
        },
        {
          "output_type": "display_data",
          "data": {
            "application/javascript": [
              "download(\"download_79de9071-6f6a-48c1-9570-074e436f0825\", \"evalution1.csv\", 1207)"
            ],
            "text/plain": [
              "<IPython.core.display.Javascript object>"
            ]
          },
          "metadata": {
            "tags": []
          }
        }
      ]
    },
    {
      "cell_type": "code",
      "metadata": {
        "id": "3lyarR4nUYQK"
      },
      "source": [
        "model_save_name = 'banana_14_04_epoch5.pt'\n",
        "PATH = F\"/content/gdrive/My Drive/Ai/{model_save_name}\" \n",
        "\n",
        "torch.save(model.state_dict(), PATH)"
      ],
      "execution_count": 21,
      "outputs": []
    },
    {
      "cell_type": "code",
      "metadata": {
        "id": "4C8Da97fj_SH"
      },
      "source": [
        "model = CnnModel()\n",
        "model.load_state_dict(torch.load(PATH))\n",
        "model.eval()"
      ],
      "execution_count": null,
      "outputs": []
    },
    {
      "cell_type": "code",
      "metadata": {
        "id": "ULkzPucnmrYT"
      },
      "source": [
        "print(\"Our model: \\n\\n\", model, '\\n')\n",
        "print(\"The state dict keys: \\n\\n\", model.state_dict().keys())"
      ],
      "execution_count": null,
      "outputs": []
    },
    {
      "cell_type": "code",
      "metadata": {
        "id": "l__zI1AR_xHl"
      },
      "source": [
        "torch.save(model.state_dict(), 'checkpoint.pth')\n",
        "\n",
        "# download checkpoint file\n",
        "files.download('checkpoint.pth')"
      ],
      "execution_count": null,
      "outputs": []
    },
    {
      "cell_type": "code",
      "metadata": {
        "id": "Icmt1svHAF66"
      },
      "source": [
        "def f1_loss(y_true:torch.Tensor, y_pred:torch.Tensor, is_training=False) -> torch.Tensor:\n",
        "    '''Calculate F1 score. Can work with gpu tensors\n",
        "    \n",
        "    The original implmentation is written by Michal Haltuf on Kaggle.\n",
        "    \n",
        "    Returns\n",
        "    -------\n",
        "    torch.Tensor\n",
        "        `ndim` == 1. 0 <= val <= 1"
      ],
      "execution_count": null,
      "outputs": []
    },
    {
      "cell_type": "code",
      "metadata": {
        "id": "zyRGOMddAReA"
      },
      "source": [
        ""
      ],
      "execution_count": null,
      "outputs": []
    },
    {
      "cell_type": "code",
      "metadata": {
        "id": "_fhwczWWAfRL"
      },
      "source": [
        "# Try this\n",
        "model = fc_model.Network(784, 10, [400, 200, 100])\n",
        "# This will throw an error because the tensor sizes are wrong!\n",
        "model.load_state_dict(state_dict)"
      ],
      "execution_count": null,
      "outputs": []
    }
  ]
}